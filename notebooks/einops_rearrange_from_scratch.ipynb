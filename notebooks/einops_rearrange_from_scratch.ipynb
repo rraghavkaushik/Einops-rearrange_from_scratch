{
  "nbformat": 4,
  "nbformat_minor": 0,
  "metadata": {
    "colab": {
      "provenance": [],
      "authorship_tag": "ABX9TyOemUYROjRj7NyhIuhtuAAX",
      "include_colab_link": true
    },
    "kernelspec": {
      "name": "python3",
      "display_name": "Python 3"
    },
    "language_info": {
      "name": "python"
    }
  },
  "cells": [
    {
      "cell_type": "markdown",
      "metadata": {
        "id": "view-in-github",
        "colab_type": "text"
      },
      "source": [
        "<a href=\"https://colab.research.google.com/github/rraghavkaushik/Sarvam-Assignment/blob/main/notebooks/einops_rearrange_from_scratch.ipynb\" target=\"_parent\"><img src=\"https://colab.research.google.com/assets/colab-badge.svg\" alt=\"Open In Colab\"/></a>"
      ]
    },
    {
      "cell_type": "markdown",
      "source": [
        "# Quick Guide for the different sections\n",
        "\n",
        "### There are three sections in this notebook,\n",
        "### a) Implementation of einops from scratch\n",
        "### b) Tests\n",
        "### c) Comparison with einops"
      ],
      "metadata": {
        "id": "xc92nQ41Gaej"
      }
    },
    {
      "cell_type": "markdown",
      "source": [
        "# Implementation of einops from scratch"
      ],
      "metadata": {
        "id": "w-KiZyscGPuA"
      }
    },
    {
      "cell_type": "code",
      "source": [
        "import numpy as np"
      ],
      "metadata": {
        "id": "-aJ6V7wq3GIx"
      },
      "execution_count": 1,
      "outputs": []
    },
    {
      "cell_type": "code",
      "source": [
        "import re"
      ],
      "metadata": {
        "id": "1jtER6u95D-L"
      },
      "execution_count": 2,
      "outputs": []
    },
    {
      "cell_type": "code",
      "source": [
        "def validate_pattern(pattern: str):\n",
        "\n",
        "    if '->' not in pattern:\n",
        "        raise ValueError(\"Pattern must contain '->'\")\n",
        "\n",
        "    lhs, rhs = pattern.split('->')\n",
        "\n",
        "    for side, name in [(lhs, \"input\"), (rhs, \"output\")]:\n",
        "        if side.count('(') != side.count(')'):\n",
        "            raise ValueError(f\"Unbalanced parentheses in {name} pattern: '{side}'\")\n",
        "\n",
        "        if side.count('...') > 1:\n",
        "            raise ValueError(f\"Too many ellipses in {name} pattern: '{side}'\")\n",
        "\n",
        "        invalid = re.findall(r'[^\\w\\s\\.\\(\\)]', side)\n",
        "        if invalid:\n",
        "            raise ValueError(f\"Invalid characters in {name} pattern: {set(invalid)}\")\n",
        "\n",
        "        axes = flatten_axes(find_axes(side))\n",
        "        axes_wo_ellipsis = [ax for ax in axes if ax != '...']\n",
        "        if len(axes_wo_ellipsis) != len(set(axes_wo_ellipsis)):\n",
        "            raise ValueError(f\"Duplicate axes found in {name} pattern: {axes_wo_ellipsis}\")\n",
        "\n",
        "    return True"
      ],
      "metadata": {
        "id": "dbMZiRsNGBNK"
      },
      "execution_count": 3,
      "outputs": []
    },
    {
      "cell_type": "code",
      "source": [
        "def parse(pattern: str):\n",
        "  if '->' not in pattern:\n",
        "    raise ValueError(\"Pattern does not ->, make sure that the pattern is right\")\n",
        "  input = pattern.split('->')[0]\n",
        "  output = pattern.split('->')[1]\n",
        "  input = find_axes(input)\n",
        "  output = find_axes(output)\n",
        "  return input, output"
      ],
      "metadata": {
        "id": "9vHMjnv93Nc8"
      },
      "execution_count": 4,
      "outputs": []
    },
    {
      "cell_type": "code",
      "source": [
        "def find_axes(pattern):\n",
        "    return re.findall(r'\\.\\.\\.|[\\w]+|\\([^\\)]+\\)', pattern)"
      ],
      "metadata": {
        "id": "dOfgabyo48p7"
      },
      "execution_count": 5,
      "outputs": []
    },
    {
      "cell_type": "code",
      "source": [
        "def flatten_axes(axes):\n",
        "    flat = []\n",
        "    for ax in axes:\n",
        "        if ax.startswith(\"(\") and ax.endswith(\")\"):\n",
        "            # flat += re.findall(r'\\w+', ax)\n",
        "            flat += re.findall(r'\\w+|\\.\\.\\.', ax)\n",
        "        else:\n",
        "            flat.append(ax)\n",
        "    return flat"
      ],
      "metadata": {
        "id": "SBWiN12d_r2q"
      },
      "execution_count": 6,
      "outputs": []
    },
    {
      "cell_type": "code",
      "source": [
        "def transpose(tensor, input, output):\n",
        "  for i in output:\n",
        "    if i not in input:\n",
        "      raise ValueError(f\"Output axis '{ax}' not found in input axes\")\n",
        "\n",
        "  perm = [input.index(ax) for ax in output]\n",
        "  return tensor.transpose(perm)\n"
      ],
      "metadata": {
        "id": "a7VoKbG1AtmJ"
      },
      "execution_count": 7,
      "outputs": []
    },
    {
      "cell_type": "code",
      "source": [
        "def is_transpose(pattern) -> bool:\n",
        "  return ('...' not in pattern) and ('(' not in pattern) and (')' not in pattern)"
      ],
      "metadata": {
        "id": "Afwag164wJo8"
      },
      "execution_count": 8,
      "outputs": []
    },
    {
      "cell_type": "code",
      "source": [
        "from typing import List, Tuple, Dict\n",
        "\n",
        "def split_axes(ip_ax: str, tensor_shape: int, axes_lengths: Dict[str, int], shape: Dict[str, int]) -> List[str]:\n",
        "\n",
        "    axes = re.findall(r'\\w+', ip_ax)\n",
        "    known_ax = [i for i in axes if i in axes_lengths]\n",
        "    known_dim = [axes_lengths[i] for i in known_ax]\n",
        "    unknown_ax = [i for i in axes if i not in axes_lengths]\n",
        "\n",
        "    prod_known = int(np.prod(known_dim)) if known_dim else 1\n",
        "\n",
        "    if len(unknown_ax) == 0:\n",
        "        sizes = [axes_lengths[i] for i in axes]\n",
        "    elif len(unknown_ax) == 1:\n",
        "        remaining = tensor_shape // prod_known\n",
        "        axes_lengths[unknown_ax[0]] = remaining\n",
        "        sizes = [axes_lengths[i] for i in axes]\n",
        "    else:\n",
        "        raise ValueError(\n",
        "            f\"Cannot infer sizes for multiple unknown axes {unknown_ax}. \"\n",
        "            f\"Known axes: {known_ax}. Please specify all but one.\"\n",
        "        )\n",
        "\n",
        "    if np.prod(sizes) != tensor_shape:\n",
        "        raise ValueError(\n",
        "            f\"Mismatch in shapes: cannot split dimension {tensor_shape} into {sizes} \"\n",
        "            f\"(from axes: {axes})\"\n",
        "        )\n",
        "\n",
        "    for i, s in zip(axes, sizes):\n",
        "        shape[i] = s\n",
        "\n",
        "    return axes\n"
      ],
      "metadata": {
        "id": "4K7XJeCVFwNU"
      },
      "execution_count": 9,
      "outputs": []
    },
    {
      "cell_type": "code",
      "source": [
        "# def merge_axis(op_ax, axes_shape):\n",
        "\n",
        "#   ax_split = re.findall(r'\\w+', op_ax)\n",
        "#   return int(np.prod([axes_shape[i] for i in ax_split]))\n",
        "\n",
        "def merge_axis(op_ax, axes_shape, ellipsis_ax=[]):\n",
        "\n",
        "    tokens = re.findall(r'\\w+|\\.{3}', op_ax)\n",
        "    resolved_axes = []\n",
        "    for token in tokens:\n",
        "        if token == '...':\n",
        "            resolved_axes.extend(ellipsis_ax)\n",
        "        else:\n",
        "            resolved_axes.append(token)\n",
        "    return int(np.prod([axes_shape[i] for i in resolved_axes]))\n"
      ],
      "metadata": {
        "id": "WNrEyzr84eLD"
      },
      "execution_count": 10,
      "outputs": []
    },
    {
      "cell_type": "code",
      "source": [
        "def repeat_new_axes(tensor, input_axes, output, axes_shape, axes_lengths):\n",
        "  new_ax = [i for i in output if i not in input_axes]\n",
        "  # print(new_ax)\n",
        "\n",
        "  for i in new_ax:\n",
        "    if i.startswith('(') or i == '...':\n",
        "      continue\n",
        "    if i not in axes_lengths:\n",
        "      raise ValueError(f\"The axis {i} needs a specified length\")\n",
        "\n",
        "    tensor = np.expand_dims(tensor, axis=-1)\n",
        "    tensor = np.repeat(tensor, axes_lengths[i], axis=-1)\n",
        "\n",
        "    axes_shape[i] = axes_lengths[i]\n",
        "    input_axes.append(i)\n",
        "\n",
        "    target_index = output.index(i)\n",
        "    tensor = np.moveaxis(tensor, -1, target_index)\n",
        "    input_axes = input_axes[:-1]\n",
        "    input_axes.insert(target_index, i)\n",
        "\n",
        "  return tensor, input_axes"
      ],
      "metadata": {
        "id": "AWBPUX4rYeht"
      },
      "execution_count": 11,
      "outputs": []
    },
    {
      "cell_type": "code",
      "source": [
        "def ellipsis(input, tensor_shape, axes):\n",
        "  # n = len(axes)\n",
        "  n_ellipsis = len(tensor_shape) - len(axes)\n",
        "\n",
        "  if n_ellipsis < 0:\n",
        "    raise ValueError(\"Not enough dimensions in input tensor\")\n",
        "\n",
        "  ellipsis_dim = tensor_shape[:n_ellipsis]\n",
        "  ellipsis_ax = [f'_ellipsis_{i}' for i in range(n_ellipsis)]\n",
        "  return ellipsis_dim, ellipsis_ax, n_ellipsis"
      ],
      "metadata": {
        "id": "CYhkDsQ2n7Au"
      },
      "execution_count": 12,
      "outputs": []
    },
    {
      "cell_type": "code",
      "source": [
        "def extract_axes(expr, ellipsis_ax):\n",
        "\n",
        "    '''Hint: added this to handle cases where ellipsis occur in the merge axis operation,\n",
        "    and also when the case becomes too complex with the transpose part coming in as well'''\n",
        "    expr = expr.strip(\"()\")\n",
        "    return [ax if ax != '...' else ell for ax in expr.split() for ell in (ellipsis_ax if ax == '...' else [ax])]\n"
      ],
      "metadata": {
        "id": "wNYBreAy5anN"
      },
      "execution_count": 13,
      "outputs": []
    },
    {
      "source": [
        "def rearrange(tensor: np.array, pattern: str, **axes_lengths) -> np.ndarray:\n",
        "    input, output = parse(pattern)\n",
        "    # print(input, output)\n",
        "\n",
        "    # if is_transpose(pattern):\n",
        "        # print(transpose(tensor, input, output))\n",
        "        # return transpose(tensor, input, output)\n",
        "\n",
        "    # print(\"...\")\n",
        "    pattern_axes = set(input + output)\n",
        "    extra_keys = set(axes_lengths.keys()) - pattern_axes\n",
        "    if extra_keys:\n",
        "      raise ValueError(f\"Extra keys in axes_lengths not used in pattern: {extra_keys}\")\n",
        "\n",
        "    axes_shape = {}\n",
        "    input_axes = []\n",
        "    # output_axes = []\n",
        "    ellipsis_dim = []\n",
        "    axes = []\n",
        "\n",
        "    for ip_ax in input:\n",
        "        if ip_ax == '...':\n",
        "          continue\n",
        "        elif ip_ax.startswith(\"(\") and ip_ax.endswith(\")\"):\n",
        "          axes += re.findall(r'\\w+', ip_ax)\n",
        "        else:\n",
        "          axes.append(ip_ax)\n",
        "    # print(axes)\n",
        "\n",
        "    tensor_shape = list(tensor.shape)\n",
        "    # print(tensor_shape)\n",
        "\n",
        "    '''ellipsis_dim = []\n",
        "    ellipsis_ax = []\n",
        "    n_ellipsis = 0\n",
        "    if '...' in pattern:\n",
        "      ellipsis_dim, ellipsis_ax, n_ellipsis = ellipsis(input, tensor_shape, axes)'''\n",
        "    # else:\n",
        "    #   ellipsis_dim = []\n",
        "    #   ellipsis_ax = []\n",
        "    #   n_ellipsis = 0\n",
        "\n",
        "    n_ellipsis = len(tensor_shape) - len(axes)\n",
        "    if '...' in pattern:\n",
        "      if n_ellipsis < 0:\n",
        "        raise ValueError(\"Too many axoes in pattern for input tensor\")\n",
        "\n",
        "    ellipsis_ax = [f'_ellipsis_{i}' for i in range(n_ellipsis)]\n",
        "    ellipsis_dim = tensor_shape.copy()\n",
        "    if '...' in pattern:\n",
        "      for i in axes:\n",
        "        ind = tensor_shape.index(axes_lengths.get(i, None)) if i in axes_lengths else None\n",
        "        if ind is not None:\n",
        "          ellipsis_dim.pop(i)\n",
        "    # idx = n_ellipsis\n",
        "    idx = 0\n",
        "    for ip_ax in input:\n",
        "        if ip_ax == '...':\n",
        "          # continue\n",
        "          # if len( ellipsis_ax) > 0:\n",
        "          # for ax, dim in zip(ellipsis_ax, ellipsis_dim): # changed ellipses_ax to ellipsis_ax\n",
        "          #   axes_shape[ax] = dim\n",
        "          # input_axes.extend(ellipsis_ax) # changed ellipses_ax to ellipsis_ax\n",
        "          # else:\n",
        "            # continue\n",
        "          for i in range(n_ellipsis):\n",
        "            axes_shape[ellipsis_ax[i]] = tensor_shape[idx]\n",
        "            input_axes.append(ellipsis_ax[i])\n",
        "            idx += 1\n",
        "\n",
        "        elif ip_ax.startswith('(') and ip_ax.endswith(')'):\n",
        "          ax_split = split_axes(ip_ax, tensor_shape[idx], axes_lengths, axes_shape)\n",
        "          input_axes.extend(ax_split)\n",
        "          idx += 1\n",
        "\n",
        "        # else:\n",
        "        #   axes_shape[ip_ax] = tensor_shape[idx]\n",
        "        #   input_axes.append(ip_ax)\n",
        "        #   idx += 1\n",
        "        else:\n",
        "          if idx < len(tensor_shape):\n",
        "            axes_shape[ip_ax] = tensor_shape[idx]\n",
        "            input_axes.append(ip_ax)\n",
        "            idx += 1\n",
        "          else:\n",
        "            raise ValueError(f\"Input pattern '{pattern}' expects more dimensions than the input tensor has.\")\n",
        "\n",
        "    # print(axes_shape)\n",
        "    # print(\"Inferred Input Axes:\", input_axes)\n",
        "    # tensor = tensor.reshape()\n",
        "    tensor_reshaped = tensor.reshape([axes_shape[i] for i in input_axes])\n",
        "    # print(tensor_reshaped)\n",
        "\n",
        "    new_axes_to_repeat = set(output) - set(input_axes)\n",
        "\n",
        "    if new_axes_to_repeat:\n",
        "      tensor_reshaped, input_axes = repeat_new_axes(tensor_reshaped, input_axes, output, axes_shape, axes_lengths)\n",
        "\n",
        "    # print('...', input_axes, output)\n",
        "    # print(tensor_reshaped, input_axes)\n",
        "\n",
        "    final_axes_order = []\n",
        "    for op_ax in output:\n",
        "        if op_ax == '...':\n",
        "            final_axes_order.extend(ellipsis_ax)\n",
        "        elif op_ax.startswith('(') and op_ax.endswith(')'):\n",
        "            final_axes_order.extend(extract_axes(op_ax, ellipsis_ax))\n",
        "            # continue\n",
        "        else:\n",
        "            final_axes_order.append(op_ax)\n",
        "\n",
        "    if input_axes != final_axes_order and not new_axes_to_repeat:\n",
        "        perm = [input_axes.index(ax) for ax in final_axes_order]\n",
        "        tensor_reshaped = tensor_reshaped.transpose(perm)\n",
        "        input_axes = final_axes_order\n",
        "\n",
        "    output_ax_dim = []\n",
        "    for op_ax in output:\n",
        "        if op_ax == '...':\n",
        "          # continue\n",
        "          output_ax_dim.extend([axes_shape[i] for i in ellipsis_ax])\n",
        "        elif op_ax.startswith('(') and op_ax.endswith(')'):\n",
        "          # output_ax_dim.append(merge_axis(op_ax, axes_shape))\n",
        "          output_ax_dim.append(merge_axis(op_ax, axes_shape, ellipsis_ax))\n",
        "        else:\n",
        "          output_ax_dim.append(axes_shape[op_ax])\n",
        "\n",
        "    # print(\"final output shape:\", output_ax_dim)\n",
        "\n",
        "    return tensor_reshaped.reshape(output_ax_dim)"
      ],
      "cell_type": "code",
      "metadata": {
        "id": "nM4liBAhug0Z"
      },
      "execution_count": 45,
      "outputs": []
    },
    {
      "cell_type": "markdown",
      "source": [
        "# Tests"
      ],
      "metadata": {
        "id": "tYEt2bT73oBw"
      }
    },
    {
      "cell_type": "markdown",
      "source": [
        "**Pattern: \"a b c d -> (...) d\" can't be handled by both einops and my implementation.**\n",
        "\n",
        "\n"
      ],
      "metadata": {
        "id": "XJqpD6CA3ra1"
      }
    },
    {
      "cell_type": "code",
      "source": [
        "import einops\n",
        "x = np.random.rand(2, 3, 4, 5)\n",
        "y = einops.rearrange(x, \"a b c d -> (...) d\")\n",
        "\n",
        "y_ = rearrange(x, \"a b c d -> (...) d\")\n",
        "\n",
        "print(y.shape, y_.shape)"
      ],
      "metadata": {
        "colab": {
          "base_uri": "https://localhost:8080/",
          "height": 443
        },
        "id": "dbWFWzXT3QJH",
        "outputId": "ef0c390c-5799-4af0-d595-76265eb273e1"
      },
      "execution_count": 52,
      "outputs": [
        {
          "output_type": "error",
          "ename": "EinopsError",
          "evalue": " Error while processing rearrange-reduction pattern \"a b c d -> (...) d\".\n Input tensor shape: (2, 3, 4, 5). Additional info: {}.\n Ellipsis found in right side, but not left side of a pattern a b c d -> (...) d",
          "traceback": [
            "\u001b[0;31m---------------------------------------------------------------------------\u001b[0m",
            "\u001b[0;31mEinopsError\u001b[0m                               Traceback (most recent call last)",
            "\u001b[0;32m/usr/local/lib/python3.11/dist-packages/einops/einops.py\u001b[0m in \u001b[0;36mreduce\u001b[0;34m(tensor, pattern, reduction, **axes_lengths)\u001b[0m\n\u001b[1;32m    530\u001b[0m         \u001b[0mshape\u001b[0m \u001b[0;34m=\u001b[0m \u001b[0mbackend\u001b[0m\u001b[0;34m.\u001b[0m\u001b[0mshape\u001b[0m\u001b[0;34m(\u001b[0m\u001b[0mtensor\u001b[0m\u001b[0;34m)\u001b[0m\u001b[0;34m\u001b[0m\u001b[0;34m\u001b[0m\u001b[0m\n\u001b[0;32m--> 531\u001b[0;31m         \u001b[0mrecipe\u001b[0m \u001b[0;34m=\u001b[0m \u001b[0m_prepare_transformation_recipe\u001b[0m\u001b[0;34m(\u001b[0m\u001b[0mpattern\u001b[0m\u001b[0;34m,\u001b[0m \u001b[0mreduction\u001b[0m\u001b[0;34m,\u001b[0m \u001b[0maxes_names\u001b[0m\u001b[0;34m=\u001b[0m\u001b[0mtuple\u001b[0m\u001b[0;34m(\u001b[0m\u001b[0maxes_lengths\u001b[0m\u001b[0;34m)\u001b[0m\u001b[0;34m,\u001b[0m \u001b[0mndim\u001b[0m\u001b[0;34m=\u001b[0m\u001b[0mlen\u001b[0m\u001b[0;34m(\u001b[0m\u001b[0mshape\u001b[0m\u001b[0;34m)\u001b[0m\u001b[0;34m)\u001b[0m\u001b[0;34m\u001b[0m\u001b[0;34m\u001b[0m\u001b[0m\n\u001b[0m\u001b[1;32m    532\u001b[0m         return _apply_recipe(\n",
            "\u001b[0;32m/usr/local/lib/python3.11/dist-packages/einops/einops.py\u001b[0m in \u001b[0;36m_prepare_transformation_recipe\u001b[0;34m(pattern, operation, axes_names, ndim)\u001b[0m\n\u001b[1;32m    304\u001b[0m     \u001b[0;32mif\u001b[0m \u001b[0;32mnot\u001b[0m \u001b[0mleft\u001b[0m\u001b[0;34m.\u001b[0m\u001b[0mhas_ellipsis\u001b[0m \u001b[0;32mand\u001b[0m \u001b[0mrght\u001b[0m\u001b[0;34m.\u001b[0m\u001b[0mhas_ellipsis\u001b[0m\u001b[0;34m:\u001b[0m\u001b[0;34m\u001b[0m\u001b[0;34m\u001b[0m\u001b[0m\n\u001b[0;32m--> 305\u001b[0;31m         \u001b[0;32mraise\u001b[0m \u001b[0mEinopsError\u001b[0m\u001b[0;34m(\u001b[0m\u001b[0;34m\"Ellipsis found in right side, but not left side of a pattern {}\"\u001b[0m\u001b[0;34m.\u001b[0m\u001b[0mformat\u001b[0m\u001b[0;34m(\u001b[0m\u001b[0mpattern\u001b[0m\u001b[0;34m)\u001b[0m\u001b[0;34m)\u001b[0m\u001b[0;34m\u001b[0m\u001b[0;34m\u001b[0m\u001b[0m\n\u001b[0m\u001b[1;32m    306\u001b[0m     \u001b[0;32mif\u001b[0m \u001b[0mleft\u001b[0m\u001b[0;34m.\u001b[0m\u001b[0mhas_ellipsis\u001b[0m \u001b[0;32mand\u001b[0m \u001b[0mleft\u001b[0m\u001b[0;34m.\u001b[0m\u001b[0mhas_ellipsis_parenthesized\u001b[0m\u001b[0;34m:\u001b[0m\u001b[0;34m\u001b[0m\u001b[0;34m\u001b[0m\u001b[0m\n",
            "\u001b[0;31mEinopsError\u001b[0m: Ellipsis found in right side, but not left side of a pattern a b c d -> (...) d",
            "\nDuring handling of the above exception, another exception occurred:\n",
            "\u001b[0;31mEinopsError\u001b[0m                               Traceback (most recent call last)",
            "\u001b[0;32m<ipython-input-52-728a93545bee>\u001b[0m in \u001b[0;36m<cell line: 0>\u001b[0;34m()\u001b[0m\n\u001b[1;32m      1\u001b[0m \u001b[0;32mimport\u001b[0m \u001b[0meinops\u001b[0m\u001b[0;34m\u001b[0m\u001b[0;34m\u001b[0m\u001b[0m\n\u001b[1;32m      2\u001b[0m \u001b[0mx\u001b[0m \u001b[0;34m=\u001b[0m \u001b[0mnp\u001b[0m\u001b[0;34m.\u001b[0m\u001b[0mrandom\u001b[0m\u001b[0;34m.\u001b[0m\u001b[0mrand\u001b[0m\u001b[0;34m(\u001b[0m\u001b[0;36m2\u001b[0m\u001b[0;34m,\u001b[0m \u001b[0;36m3\u001b[0m\u001b[0;34m,\u001b[0m \u001b[0;36m4\u001b[0m\u001b[0;34m,\u001b[0m \u001b[0;36m5\u001b[0m\u001b[0;34m)\u001b[0m\u001b[0;34m\u001b[0m\u001b[0;34m\u001b[0m\u001b[0m\n\u001b[0;32m----> 3\u001b[0;31m \u001b[0my\u001b[0m \u001b[0;34m=\u001b[0m \u001b[0meinops\u001b[0m\u001b[0;34m.\u001b[0m\u001b[0mrearrange\u001b[0m\u001b[0;34m(\u001b[0m\u001b[0mx\u001b[0m\u001b[0;34m,\u001b[0m \u001b[0;34m\"a b c d -> (...) d\"\u001b[0m\u001b[0;34m)\u001b[0m\u001b[0;34m\u001b[0m\u001b[0;34m\u001b[0m\u001b[0m\n\u001b[0m\u001b[1;32m      4\u001b[0m \u001b[0;34m\u001b[0m\u001b[0m\n\u001b[1;32m      5\u001b[0m \u001b[0my_\u001b[0m \u001b[0;34m=\u001b[0m \u001b[0mrearrange\u001b[0m\u001b[0;34m(\u001b[0m\u001b[0mx\u001b[0m\u001b[0;34m,\u001b[0m \u001b[0;34m\"a b c d -> (...) d\"\u001b[0m\u001b[0;34m)\u001b[0m\u001b[0;34m\u001b[0m\u001b[0;34m\u001b[0m\u001b[0m\n",
            "\u001b[0;32m/usr/local/lib/python3.11/dist-packages/einops/einops.py\u001b[0m in \u001b[0;36mrearrange\u001b[0;34m(tensor, pattern, **axes_lengths)\u001b[0m\n\u001b[1;32m    598\u001b[0m \u001b[0;34m\u001b[0m\u001b[0m\n\u001b[1;32m    599\u001b[0m     \"\"\"\n\u001b[0;32m--> 600\u001b[0;31m     \u001b[0;32mreturn\u001b[0m \u001b[0mreduce\u001b[0m\u001b[0;34m(\u001b[0m\u001b[0mtensor\u001b[0m\u001b[0;34m,\u001b[0m \u001b[0mpattern\u001b[0m\u001b[0;34m,\u001b[0m \u001b[0mreduction\u001b[0m\u001b[0;34m=\u001b[0m\u001b[0;34m\"rearrange\"\u001b[0m\u001b[0;34m,\u001b[0m \u001b[0;34m**\u001b[0m\u001b[0maxes_lengths\u001b[0m\u001b[0;34m)\u001b[0m\u001b[0;34m\u001b[0m\u001b[0;34m\u001b[0m\u001b[0m\n\u001b[0m\u001b[1;32m    601\u001b[0m \u001b[0;34m\u001b[0m\u001b[0m\n\u001b[1;32m    602\u001b[0m \u001b[0;34m\u001b[0m\u001b[0m\n",
            "\u001b[0;32m/usr/local/lib/python3.11/dist-packages/einops/einops.py\u001b[0m in \u001b[0;36mreduce\u001b[0;34m(tensor, pattern, reduction, **axes_lengths)\u001b[0m\n\u001b[1;32m    540\u001b[0m             \u001b[0mmessage\u001b[0m \u001b[0;34m+=\u001b[0m \u001b[0;34m\"\\n Input is list. \"\u001b[0m\u001b[0;34m\u001b[0m\u001b[0;34m\u001b[0m\u001b[0m\n\u001b[1;32m    541\u001b[0m         \u001b[0mmessage\u001b[0m \u001b[0;34m+=\u001b[0m \u001b[0;34m\"Additional info: {}.\"\u001b[0m\u001b[0;34m.\u001b[0m\u001b[0mformat\u001b[0m\u001b[0;34m(\u001b[0m\u001b[0maxes_lengths\u001b[0m\u001b[0;34m)\u001b[0m\u001b[0;34m\u001b[0m\u001b[0;34m\u001b[0m\u001b[0m\n\u001b[0;32m--> 542\u001b[0;31m         \u001b[0;32mraise\u001b[0m \u001b[0mEinopsError\u001b[0m\u001b[0;34m(\u001b[0m\u001b[0mmessage\u001b[0m \u001b[0;34m+\u001b[0m \u001b[0;34m\"\\n {}\"\u001b[0m\u001b[0;34m.\u001b[0m\u001b[0mformat\u001b[0m\u001b[0;34m(\u001b[0m\u001b[0me\u001b[0m\u001b[0;34m)\u001b[0m\u001b[0;34m)\u001b[0m\u001b[0;34m\u001b[0m\u001b[0;34m\u001b[0m\u001b[0m\n\u001b[0m\u001b[1;32m    543\u001b[0m \u001b[0;34m\u001b[0m\u001b[0m\n\u001b[1;32m    544\u001b[0m \u001b[0;34m\u001b[0m\u001b[0m\n",
            "\u001b[0;31mEinopsError\u001b[0m:  Error while processing rearrange-reduction pattern \"a b c d -> (...) d\".\n Input tensor shape: (2, 3, 4, 5). Additional info: {}.\n Ellipsis found in right side, but not left side of a pattern a b c d -> (...) d"
          ]
        }
      ]
    },
    {
      "cell_type": "markdown",
      "source": [
        "**Case: Two split axes condition handling, with more than one of the axes being given in axes_shapes**"
      ],
      "metadata": {
        "id": "nacGFMr-4stJ"
      }
    },
    {
      "cell_type": "code",
      "source": [
        "x = np.random.randn(6, 20)\n",
        "x = rearrange(x, '(a b) (c d) -> a b c d', a=2, b =3, d=4)\n",
        "print(x.shape)"
      ],
      "metadata": {
        "colab": {
          "base_uri": "https://localhost:8080/"
        },
        "id": "aEtsXOukvxUK",
        "outputId": "3c1ef79d-b21e-4bb3-f2c3-b48141ccbe7f"
      },
      "execution_count": 15,
      "outputs": [
        {
          "output_type": "stream",
          "name": "stdout",
          "text": [
            "['(a b)', '(c d)'] ['a', 'b', 'c', 'd']\n",
            "(2, 3, 5, 4)\n"
          ]
        }
      ]
    },
    {
      "cell_type": "markdown",
      "source": [
        "**Case: Transpose + ellipses + merge axes**"
      ],
      "metadata": {
        "id": "mnRXFSdW42ae"
      }
    },
    {
      "cell_type": "code",
      "source": [
        "x = np.random.rand(2, 3, 4, 5, 6)\n",
        "y5 = rearrange(x, \"a b ... -> b (...) a\")"
      ],
      "metadata": {
        "colab": {
          "base_uri": "https://localhost:8080/"
        },
        "id": "KgCKzRH32_gr",
        "outputId": "41bbf934-af89-4355-b14f-e9cad8f43a2b"
      },
      "execution_count": 16,
      "outputs": [
        {
          "output_type": "stream",
          "name": "stdout",
          "text": [
            "['a', 'b', '...'] ['b', '(...)', 'a']\n"
          ]
        }
      ]
    },
    {
      "cell_type": "code",
      "source": [
        "y5.shape"
      ],
      "metadata": {
        "colab": {
          "base_uri": "https://localhost:8080/"
        },
        "id": "kwYGGQK83MSc",
        "outputId": "7eb3fcbf-44d4-4f59-82bc-f3dc86eda44d"
      },
      "execution_count": 62,
      "outputs": [
        {
          "output_type": "execute_result",
          "data": {
            "text/plain": [
              "(3, 120, 2)"
            ]
          },
          "metadata": {},
          "execution_count": 62
        }
      ]
    },
    {
      "cell_type": "markdown",
      "source": [
        "**Case: Only ellipsis condition**"
      ],
      "metadata": {
        "id": "H4yO-n5KHLJF"
      }
    },
    {
      "cell_type": "code",
      "source": [
        "y6 = rearrange(x, \"... ->  (...)\")\n",
        "y6.shape"
      ],
      "metadata": {
        "colab": {
          "base_uri": "https://localhost:8080/"
        },
        "id": "rO5R4GclCimx",
        "outputId": "1106b8ab-92aa-458c-93e1-0cecd3e75b5c"
      },
      "execution_count": 17,
      "outputs": [
        {
          "output_type": "stream",
          "name": "stdout",
          "text": [
            "['...'] ['(...)']\n"
          ]
        },
        {
          "output_type": "execute_result",
          "data": {
            "text/plain": [
              "(720,)"
            ]
          },
          "metadata": {},
          "execution_count": 17
        }
      ]
    },
    {
      "cell_type": "markdown",
      "source": [
        "**Case: Merge multiple axes**"
      ],
      "metadata": {
        "id": "FQWxGwd0HXeM"
      }
    },
    {
      "cell_type": "code",
      "source": [
        "# x = np.random.rand(12, 5, 10)\n",
        "y7 = rearrange(x, \"a b c d e -> (a b c) (d e)\")"
      ],
      "metadata": {
        "colab": {
          "base_uri": "https://localhost:8080/"
        },
        "id": "wN4rDAM5FctD",
        "outputId": "b221500a-4ed4-48a9-fd06-44d459cdf04d"
      },
      "execution_count": 18,
      "outputs": [
        {
          "output_type": "stream",
          "name": "stdout",
          "text": [
            "['a', 'b', 'c', 'd', 'e'] ['(a b c)', '(d e)']\n"
          ]
        }
      ]
    },
    {
      "cell_type": "code",
      "source": [
        "y7.shape"
      ],
      "metadata": {
        "colab": {
          "base_uri": "https://localhost:8080/"
        },
        "id": "Qwob5h3rFczy",
        "outputId": "539a83a1-9382-427c-a3f2-186c564eebe3"
      },
      "execution_count": 19,
      "outputs": [
        {
          "output_type": "execute_result",
          "data": {
            "text/plain": [
              "(24, 30)"
            ]
          },
          "metadata": {},
          "execution_count": 19
        }
      ]
    },
    {
      "cell_type": "markdown",
      "source": [
        "**Case: Testing out time differences to run the code, when a seperate transpose() is used and not used to handle simple transpose cases**"
      ],
      "metadata": {
        "id": "IuiKoqOxHbub"
      }
    },
    {
      "cell_type": "code",
      "source": [
        "# import time\n",
        "\n",
        "# start = time.time()\n",
        "\n",
        "x = np.random.rand(2, 12, 4)\n",
        "result = rearrange(x, 'h w c -> (h w) c')\n",
        "\n",
        "# end = time.time()\n",
        "\n",
        "# print(f\"time taken is {end - start} seconds\")"
      ],
      "metadata": {
        "colab": {
          "base_uri": "https://localhost:8080/"
        },
        "id": "29vl8Akk4JZF",
        "outputId": "19bc53cd-6ae9-4048-8745-566b526e39f8"
      },
      "execution_count": 20,
      "outputs": [
        {
          "output_type": "stream",
          "name": "stdout",
          "text": [
            "['h', 'w', 'c'] ['(h w)', 'c']\n"
          ]
        }
      ]
    },
    {
      "cell_type": "markdown",
      "source": [
        "for this case:\n",
        "\n",
        "x = np.random.rand(2, 12, 4)\n",
        "\n",
        "result = rearrange(x, 'h w c -> w h c', h=3)\n",
        "\n",
        "With transpose() and without transpose(), the time difference is very minimum."
      ],
      "metadata": {
        "id": "n4A7jiNsnhkF"
      }
    },
    {
      "cell_type": "markdown",
      "source": [
        "**Case: test for split and merge axes**"
      ],
      "metadata": {
        "id": "HDbIf7LyIEEW"
      }
    },
    {
      "cell_type": "code",
      "source": [
        "x = np.random.rand(12, 5)\n",
        "result = rearrange(x, '(a b) c -> a (b c)', a=2)\n"
      ],
      "metadata": {
        "colab": {
          "base_uri": "https://localhost:8080/"
        },
        "id": "x_EUELzongJJ",
        "outputId": "d2c2632b-960a-4c12-86d6-0a8fc64cea78"
      },
      "execution_count": 23,
      "outputs": [
        {
          "output_type": "stream",
          "name": "stdout",
          "text": [
            "['(a b)', 'c'] ['a', '(b c)']\n"
          ]
        }
      ]
    },
    {
      "cell_type": "markdown",
      "source": [
        "**Case: test for repeating axes**"
      ],
      "metadata": {
        "id": "VVDFTbrCIRNV"
      }
    },
    {
      "cell_type": "code",
      "source": [
        "import einops\n",
        "\n",
        "# Repeat an axis\n",
        "x = np.random.rand(3, 1, 5)\n",
        "result = rearrange(x, 'a 1 c -> a b c', b=2)\n",
        "# r = einops.rearrange(x, 'a 1 c -> a b c', b =2)"
      ],
      "metadata": {
        "colab": {
          "base_uri": "https://localhost:8080/"
        },
        "id": "lzIOa8xDpNTk",
        "outputId": "48f7e96e-5ff1-4a0a-922d-d05091734283"
      },
      "execution_count": 34,
      "outputs": [
        {
          "output_type": "stream",
          "name": "stdout",
          "text": [
            "['a', '1', 'c'] ['a', 'b', 'c']\n"
          ]
        }
      ]
    },
    {
      "cell_type": "code",
      "source": [
        "result.shape"
      ],
      "metadata": {
        "colab": {
          "base_uri": "https://localhost:8080/"
        },
        "id": "uc7AvKafJd2K",
        "outputId": "cd1cc506-59d0-41a1-d9c7-d4539dd9766b"
      },
      "execution_count": 35,
      "outputs": [
        {
          "output_type": "execute_result",
          "data": {
            "text/plain": [
              "(3, 2, 5)"
            ]
          },
          "metadata": {},
          "execution_count": 35
        }
      ]
    },
    {
      "cell_type": "markdown",
      "source": [
        "**Case: handle batch dimensions**"
      ],
      "metadata": {
        "id": "6IOmibvPJfQe"
      }
    },
    {
      "cell_type": "code",
      "source": [
        "# Handle batch dimensions\n",
        "x = np.random.rand(2, 3, 4, 5)\n",
        "result = rearrange(x, '... h w -> ... (h w)')"
      ],
      "metadata": {
        "colab": {
          "base_uri": "https://localhost:8080/"
        },
        "id": "ZnCja4gL4J4Z",
        "outputId": "46da09f7-9945-4599-9f9a-0816cabdeebb"
      },
      "execution_count": 36,
      "outputs": [
        {
          "output_type": "stream",
          "name": "stdout",
          "text": [
            "['...', 'h', 'w'] ['...', '(h w)']\n"
          ]
        }
      ]
    },
    {
      "cell_type": "code",
      "source": [
        "# Handle batch dimensions\n",
        "x = np.random.rand(2, 3, 4, 5)\n",
        "result = rearrange(x, 'h w ... -> (h w) ...')"
      ],
      "metadata": {
        "colab": {
          "base_uri": "https://localhost:8080/"
        },
        "id": "-Vor-0h7wXW4",
        "outputId": "7e761cc9-b4b1-4669-ee1d-fb06caecf344"
      },
      "execution_count": 37,
      "outputs": [
        {
          "output_type": "stream",
          "name": "stdout",
          "text": [
            "['h', 'w', '...'] ['(h w)', '...']\n"
          ]
        }
      ]
    },
    {
      "cell_type": "code",
      "source": [
        "result.shape"
      ],
      "metadata": {
        "colab": {
          "base_uri": "https://localhost:8080/"
        },
        "id": "MNxzlCDq4PjU",
        "outputId": "2f0bb78a-d74a-4836-e113-645bc4bf32e0"
      },
      "execution_count": 38,
      "outputs": [
        {
          "output_type": "execute_result",
          "data": {
            "text/plain": [
              "(6, 4, 5)"
            ]
          },
          "metadata": {},
          "execution_count": 38
        }
      ]
    },
    {
      "cell_type": "markdown",
      "source": [
        "### Testing for cases of mismatch in output shapes"
      ],
      "metadata": {
        "id": "e7mi9hnaJu_p"
      }
    },
    {
      "cell_type": "code",
      "source": [
        "import torch"
      ],
      "metadata": {
        "id": "bLRe17IBMPC1"
      },
      "execution_count": 39,
      "outputs": []
    },
    {
      "cell_type": "code",
      "source": [
        "x = torch.arange(2 * 3 * 4 * 5 * 6).reshape(2, 3, 4, 5, 6)\n",
        "y1 = rearrange(x, 'a b c d e -> (a b) c d e')\n",
        "y1_expected = x.reshape(2 * 3, 4, 5, 6)\n",
        "assert torch.equal(y1, y1_expected), \"Test 1 failed\""
      ],
      "metadata": {
        "colab": {
          "base_uri": "https://localhost:8080/"
        },
        "id": "JrzPF4rlEfux",
        "outputId": "ba8d2d10-c15b-4e92-e0bc-f1daa4c63e1c",
        "collapsed": true
      },
      "execution_count": 40,
      "outputs": [
        {
          "output_type": "stream",
          "name": "stdout",
          "text": [
            "['a', 'b', 'c', 'd', 'e'] ['(a b)', 'c', 'd', 'e']\n"
          ]
        }
      ]
    },
    {
      "cell_type": "code",
      "source": [
        "y2 = rearrange(x, 'a b c d e -> a b (c d) e')\n",
        "y2_expected = x.reshape(2, 3, 4 * 5, 6)\n",
        "assert torch.equal(y2, y2_expected), \"Test 2 failed\""
      ],
      "metadata": {
        "colab": {
          "base_uri": "https://localhost:8080/"
        },
        "id": "tiBoFnVuMT0Z",
        "outputId": "58454c48-89a7-4da6-b2ad-7d1331e8445e",
        "collapsed": true
      },
      "execution_count": 41,
      "outputs": [
        {
          "output_type": "stream",
          "name": "stdout",
          "text": [
            "['a', 'b', 'c', 'd', 'e'] ['a', 'b', '(c d)', 'e']\n"
          ]
        }
      ]
    },
    {
      "cell_type": "code",
      "source": [
        "y3 = rearrange(x, 'a b c d e -> a b c d e')\n",
        "assert torch.equal(y3, x), \"Test 3 failed\""
      ],
      "metadata": {
        "colab": {
          "base_uri": "https://localhost:8080/"
        },
        "id": "iisD6fMRMfZ9",
        "outputId": "400bddb1-cf9c-44d4-d70d-448854362f9f",
        "collapsed": true
      },
      "execution_count": 42,
      "outputs": [
        {
          "output_type": "stream",
          "name": "stdout",
          "text": [
            "['a', 'b', 'c', 'd', 'e'] ['a', 'b', 'c', 'd', 'e']\n"
          ]
        }
      ]
    },
    {
      "cell_type": "code",
      "source": [
        "def test():\n",
        "  x = torch.arange(2 * 3 * 4 * 5 * 6).reshape(2, 3, 4, 5, 6)\n",
        "\n",
        "  y1 = rearrange(x, \"... c d e -> ... (c d) e\")\n",
        "  y1_expected = x.reshape(2, 3, 4 * 5, 6)\n",
        "  assert torch.equal(y1, y1_expected), \"Test 1 failed\"\n",
        "\n",
        "  print(y1.shape, y1_expected.shape)\n",
        "\n",
        "  y2 = rearrange(x, 'a b c d e -> b (c d e) a')\n",
        "  y2_ = rearrange(x, \"a b ... -> b (...) a\")\n",
        "  assert torch.equal(y2, y2_), \"Test 2 failed\"\n",
        "\n",
        "  print(y2.shape, y2_.shape)\n",
        "\n",
        "  y3 = rearrange(x, \"a b c d e -> b (a c d) e\")\n",
        "  y3_ = rearrange(x, \"a b ... e -> b (a ...) e\")\n",
        "  assert torch.equal(y3, y3_), \"Test 3 failed\"\n",
        "\n",
        "  print(y3.shape, y3_.shape)"
      ],
      "metadata": {
        "id": "uh5OJ2fCMn26"
      },
      "execution_count": 43,
      "outputs": []
    },
    {
      "cell_type": "code",
      "source": [
        "test()"
      ],
      "metadata": {
        "colab": {
          "base_uri": "https://localhost:8080/"
        },
        "id": "zsBqj8ZbNGIg",
        "outputId": "934262dd-7d29-4967-cc11-193ecbd08224"
      },
      "execution_count": 44,
      "outputs": [
        {
          "output_type": "stream",
          "name": "stdout",
          "text": [
            "['...', 'c', 'd', 'e'] ['...', '(c d)', 'e']\n",
            "torch.Size([2, 3, 20, 6]) torch.Size([2, 3, 20, 6])\n",
            "['a', 'b', 'c', 'd', 'e'] ['b', '(c d e)', 'a']\n",
            "['a', 'b', '...'] ['b', '(...)', 'a']\n",
            "torch.Size([3, 120, 2]) torch.Size([3, 120, 2])\n",
            "['a', 'b', 'c', 'd', 'e'] ['b', '(a c d)', 'e']\n",
            "['a', 'b', '...', 'e'] ['b', '(a ...)', 'e']\n",
            "torch.Size([3, 40, 6]) torch.Size([3, 40, 6])\n"
          ]
        }
      ]
    },
    {
      "cell_type": "markdown",
      "source": [
        "### Test for different edge case input patterns"
      ],
      "metadata": {
        "id": "Ct_I1EYSJt4n"
      }
    },
    {
      "cell_type": "code",
      "source": [
        "import numpy as np\n",
        "\n",
        "invalid_patterns = [\n",
        "    \"a b -> (a b\",\n",
        "    \"a b -> a * b\",\n",
        "    \"(a b)) -> a b\",\n",
        "    \"a b) -> (a b)\",\n",
        "    \"a b -> a b)\",\n",
        "    \"a b -> a c\",\n",
        "    \"... a -> b ...\",\n",
        "    \"(a b) -> c d\",\n",
        "    \"(a b c) -> a b c\",\n",
        "    \"a a -> a\",\n",
        "    \"a b -> a b b\",\n",
        "    \"(a b) c -> a b c\",\n",
        "    \"(a b) -> a b\",\n",
        "    \"... -> ... ...\",\n",
        "    \"a b ... -> ... ... b\",\n",
        "    \"a-b -> b\",\n",
        "    \"a$ -> a\",\n",
        "    \"123 -> 321\",\n",
        "]\n",
        "\n",
        "def test_invalid_patterns():\n",
        "    x = np.random.rand(2, 3, 4)\n",
        "\n",
        "    for i, pattern in enumerate(invalid_patterns):\n",
        "        try:\n",
        "            print(f\"Testing invalid pattern {i+1}: '{pattern}'\")\n",
        "            rearrange(x, pattern)\n",
        "            raise AssertionError(f\"Pattern {i+1} did not raise an error: '{pattern}'\")\n",
        "        except Exception as e:\n",
        "            print(f\"Caught expected error: {e.__class__.__name__}: {e}\")\n",
        "\n",
        "    print(\"All invalid patterns correctly raised errors!\")\n",
        "\n",
        "test_invalid_patterns()\n"
      ],
      "metadata": {
        "colab": {
          "base_uri": "https://localhost:8080/"
        },
        "id": "eKpXnD2uDVB5",
        "outputId": "1cb42f83-0397-41bd-ac3c-aed56db3af8d"
      },
      "execution_count": 47,
      "outputs": [
        {
          "output_type": "stream",
          "name": "stdout",
          "text": [
            "Testing invalid pattern 1: 'a b -> (a b'\n",
            "Caught expected error: ValueError: cannot reshape array of size 24 into shape (2,3)\n",
            "Testing invalid pattern 2: 'a b -> a * b'\n",
            "Caught expected error: ValueError: cannot reshape array of size 24 into shape (2,3)\n",
            "Testing invalid pattern 3: '(a b)) -> a b'\n",
            "Caught expected error: ValueError: Cannot infer sizes for multiple unknown axes ['a', 'b']. Known axes: []. Please specify all but one.\n",
            "Testing invalid pattern 4: 'a b) -> (a b)'\n",
            "Caught expected error: ValueError: cannot reshape array of size 24 into shape (2,3)\n",
            "Testing invalid pattern 5: 'a b -> a b)'\n",
            "Caught expected error: ValueError: cannot reshape array of size 24 into shape (2,3)\n",
            "Testing invalid pattern 6: 'a b -> a c'\n",
            "Caught expected error: ValueError: cannot reshape array of size 24 into shape (2,3)\n",
            "Testing invalid pattern 7: '... a -> b ...'\n",
            "Caught expected error: ValueError: The axis b needs a specified length\n",
            "Testing invalid pattern 8: '(a b) -> c d'\n",
            "Caught expected error: ValueError: Cannot infer sizes for multiple unknown axes ['a', 'b']. Known axes: []. Please specify all but one.\n",
            "Testing invalid pattern 9: '(a b c) -> a b c'\n",
            "Caught expected error: ValueError: Cannot infer sizes for multiple unknown axes ['a', 'b', 'c']. Known axes: []. Please specify all but one.\n",
            "Testing invalid pattern 10: 'a a -> a'\n",
            "Caught expected error: ValueError: cannot reshape array of size 24 into shape (3,3)\n",
            "Testing invalid pattern 11: 'a b -> a b b'\n",
            "Caught expected error: ValueError: cannot reshape array of size 24 into shape (2,3)\n",
            "Testing invalid pattern 12: '(a b) c -> a b c'\n",
            "Caught expected error: ValueError: Cannot infer sizes for multiple unknown axes ['a', 'b']. Known axes: []. Please specify all but one.\n",
            "Testing invalid pattern 13: '(a b) -> a b'\n",
            "Caught expected error: ValueError: Cannot infer sizes for multiple unknown axes ['a', 'b']. Known axes: []. Please specify all but one.\n",
            "Testing invalid pattern 14: '... -> ... ...'\n",
            "Caught expected error: ValueError: cannot reshape array of size 24 into shape (2,3,4,2,3,4)\n",
            "Testing invalid pattern 15: 'a b ... -> ... ... b'\n",
            "Caught expected error: ValueError: cannot reshape array of size 24 into shape (4,4,3)\n",
            "Testing invalid pattern 16: 'a-b -> b'\n",
            "Caught expected error: ValueError: cannot reshape array of size 24 into shape (2,3)\n",
            "Testing invalid pattern 17: 'a$ -> a'\n",
            "Caught expected error: ValueError: cannot reshape array of size 24 into shape (2,)\n",
            "Testing invalid pattern 18: '123 -> 321'\n",
            "Caught expected error: ValueError: cannot reshape array of size 24 into shape (2,)\n",
            "All invalid patterns correctly raised errors!\n"
          ]
        }
      ]
    },
    {
      "cell_type": "markdown",
      "source": [
        "### Test for edge case rearrange pattern cases"
      ],
      "metadata": {
        "id": "4FaOFA4wK9HY"
      }
    },
    {
      "cell_type": "code",
      "source": [
        "creative_rearrange_patterns = [\n",
        "    (\"a b -> b a\"),\n",
        "\n",
        "    (\"a b c d -> (a b) (c d)\"),\n",
        "    (\"(a b) (c d) -> a b c d\"),\n",
        "\n",
        "    (\"... h w -> (...) (h w)\"),\n",
        "    (\"b ... h w -> b (...) (h w)\"),\n",
        "    (\"b ... h w -> (b ...) h w\"),\n",
        "\n",
        "    (\"a b c d e -> e d c b a\"),\n",
        "    (\"(a b) c (d e) -> a b d e c\"),\n",
        "\n",
        "    (\"a b c d -> a (b c) d\"),\n",
        "    (\"a b c d -> (a d) b c\"),\n",
        "\n",
        "    (\"a 1 c -> a b c\",),\n",
        "    (\"a 1 c -> a (1 c)\"),\n",
        "\n",
        "    (\"(a b c) -> a b c\",),\n",
        "    (\"(a b) (c d) -> a b c d\"),\n",
        "\n",
        "    (\"... x y z -> ... (x y z)\"),\n",
        "    (\"a ... b -> a (...) b\"),\n",
        "\n",
        "    (\"a b c -> a b c\"),\n",
        "    (\"... -> ...\"),\n",
        "\n",
        "    (\"a b c d e -> (a b c) (d e)\"),\n",
        "\n",
        "    (\"a b -> a b 1\"),\n",
        "    (\"(a b) -> a b\",),\n",
        "\n",
        "    (\"a b c d -> (...) d\"),\n",
        "\n",
        "    (\"a b c d -> (a b c) d\"),\n",
        "    (\"a b c d -> a (b c d)\"),\n",
        "\n",
        "    (\"a b c d e f -> (a b) (c d) (e f)\"),\n",
        "\n",
        "    (\"a b c d -> b c d a\"),\n",
        "    (\"a b c d -> d a b c\"),\n",
        "\n",
        "    (\"a b c d -> a (b d) c\"),\n",
        "]\n",
        "\n",
        "def test_rearrange_patterns():\n",
        "    x = np.random.rand(2, 3, 4, 5, 6)\n",
        "    for i, pattern in enumerate(creative_rearrange_patterns):\n",
        "        try:\n",
        "            print(f\"Testing pattern {i+1}: '{pattern}'\")\n",
        "            y = rearrange(x, pattern, a=2, b=3, c=4, d=5, e=6)\n",
        "            print(f\"Pattern {i+1} succeeded. Output shape: {y.shape}\")\n",
        "        except Exception as e:\n",
        "            print(f\"Pattern {i+1} failed with error: {e}\")\n",
        "\n",
        "test_rearrange_patterns()\n"
      ],
      "metadata": {
        "colab": {
          "base_uri": "https://localhost:8080/"
        },
        "id": "Jj50FIvHE7M-",
        "outputId": "bd44622a-1031-49a5-adc6-07c107ce7850"
      },
      "execution_count": 48,
      "outputs": [
        {
          "output_type": "stream",
          "name": "stdout",
          "text": [
            "Testing pattern 1: 'a b -> b a'\n",
            "Pattern 1 failed with error: Extra keys in axes_lengths not used in pattern: {'c', 'd', 'e'}\n",
            "Testing pattern 2: 'a b c d -> (a b) (c d)'\n",
            "Pattern 2 failed with error: Extra keys in axes_lengths not used in pattern: {'e'}\n",
            "Testing pattern 3: '(a b) (c d) -> a b c d'\n",
            "Pattern 3 failed with error: Extra keys in axes_lengths not used in pattern: {'e'}\n",
            "Testing pattern 4: '... h w -> (...) (h w)'\n",
            "Pattern 4 failed with error: Extra keys in axes_lengths not used in pattern: {'b', 'c', 'd', 'a', 'e'}\n",
            "Testing pattern 5: 'b ... h w -> b (...) (h w)'\n",
            "Pattern 5 failed with error: Extra keys in axes_lengths not used in pattern: {'c', 'a', 'd', 'e'}\n",
            "Testing pattern 6: 'b ... h w -> (b ...) h w'\n",
            "Pattern 6 failed with error: Extra keys in axes_lengths not used in pattern: {'c', 'a', 'd', 'e'}\n",
            "Testing pattern 7: 'a b c d e -> e d c b a'\n",
            "Pattern 7 succeeded. Output shape: (6, 5, 4, 3, 2)\n",
            "Testing pattern 8: '(a b) c (d e) -> a b d e c'\n",
            "Pattern 8 failed with error: Mismatch in shapes: cannot split dimension 2 into [2, 3] (from axes: ['a', 'b'])\n",
            "Testing pattern 9: 'a b c d -> a (b c) d'\n",
            "Pattern 9 failed with error: Extra keys in axes_lengths not used in pattern: {'e'}\n",
            "Testing pattern 10: 'a b c d -> (a d) b c'\n",
            "Pattern 10 failed with error: Extra keys in axes_lengths not used in pattern: {'e'}\n",
            "Testing pattern 11: '('a 1 c -> a b c',)'\n",
            "Pattern 11 failed with error: Pattern does not ->, make sure that the pattern is right\n",
            "Testing pattern 12: 'a 1 c -> a (1 c)'\n",
            "Pattern 12 failed with error: Extra keys in axes_lengths not used in pattern: {'d', 'e', 'b'}\n",
            "Testing pattern 13: '('(a b c) -> a b c',)'\n",
            "Pattern 13 failed with error: Pattern does not ->, make sure that the pattern is right\n",
            "Testing pattern 14: '(a b) (c d) -> a b c d'\n",
            "Pattern 14 failed with error: Extra keys in axes_lengths not used in pattern: {'e'}\n",
            "Testing pattern 15: '... x y z -> ... (x y z)'\n",
            "Pattern 15 failed with error: Extra keys in axes_lengths not used in pattern: {'b', 'c', 'd', 'a', 'e'}\n",
            "Testing pattern 16: 'a ... b -> a (...) b'\n",
            "Pattern 16 failed with error: Extra keys in axes_lengths not used in pattern: {'c', 'd', 'e'}\n",
            "Testing pattern 17: 'a b c -> a b c'\n",
            "Pattern 17 failed with error: Extra keys in axes_lengths not used in pattern: {'d', 'e'}\n",
            "Testing pattern 18: '... -> ...'\n",
            "Pattern 18 failed with error: Extra keys in axes_lengths not used in pattern: {'b', 'c', 'd', 'a', 'e'}\n",
            "Testing pattern 19: 'a b c d e -> (a b c) (d e)'\n",
            "Pattern 19 succeeded. Output shape: (24, 30)\n",
            "Testing pattern 20: 'a b -> a b 1'\n",
            "Pattern 20 failed with error: Extra keys in axes_lengths not used in pattern: {'c', 'd', 'e'}\n",
            "Testing pattern 21: '('(a b) -> a b',)'\n",
            "Pattern 21 failed with error: Pattern does not ->, make sure that the pattern is right\n",
            "Testing pattern 22: 'a b c d -> (...) d'\n",
            "Pattern 22 failed with error: Extra keys in axes_lengths not used in pattern: {'e'}\n",
            "Testing pattern 23: 'a b c d -> (a b c) d'\n",
            "Pattern 23 failed with error: Extra keys in axes_lengths not used in pattern: {'e'}\n",
            "Testing pattern 24: 'a b c d -> a (b c d)'\n",
            "Pattern 24 failed with error: Extra keys in axes_lengths not used in pattern: {'e'}\n",
            "Testing pattern 25: 'a b c d e f -> (a b) (c d) (e f)'\n",
            "Pattern 25 failed with error: Input pattern 'a b c d e f -> (a b) (c d) (e f)' expects more dimensions than the input tensor has.\n",
            "Testing pattern 26: 'a b c d -> b c d a'\n",
            "Pattern 26 failed with error: Extra keys in axes_lengths not used in pattern: {'e'}\n",
            "Testing pattern 27: 'a b c d -> d a b c'\n",
            "Pattern 27 failed with error: Extra keys in axes_lengths not used in pattern: {'e'}\n",
            "Testing pattern 28: 'a b c d -> a (b d) c'\n",
            "Pattern 28 failed with error: Extra keys in axes_lengths not used in pattern: {'e'}\n"
          ]
        }
      ]
    },
    {
      "cell_type": "code",
      "source": [],
      "metadata": {
        "id": "oBEMh7NVFW3B"
      },
      "execution_count": null,
      "outputs": []
    },
    {
      "cell_type": "markdown",
      "source": [
        "# Comparison with einops\n",
        "(Cases taken from einops repo)\n",
        "\n"
      ],
      "metadata": {
        "id": "5xl3YDdALEPL"
      }
    },
    {
      "cell_type": "code",
      "source": [
        "import einops"
      ],
      "metadata": {
        "id": "-By5c60lLHF3"
      },
      "execution_count": 49,
      "outputs": []
    },
    {
      "cell_type": "code",
      "source": [
        "def compare(x, pattern, **axes_lengths):\n",
        "\n",
        "  try:\n",
        "    y = einops.rearrange(x, pattern, **axes_lengths)\n",
        "    y_ = rearrange(x, pattern, **axes_lengths)\n",
        "    if y.shape != y_.shape:\n",
        "      print(f\"Match in Shapes of y-{y.shape} vs y_-{y_.shape}\")\n",
        "    else:\n",
        "      print(\"Shapes matches, test succesful!\")\n",
        "  except Exception as e1:\n",
        "      try:\n",
        "          rearrange(x, pattern, **axes_lengths)\n",
        "          print(f\"Custom function raised no error, but einops did: {e1}\")\n",
        "      except Exception:\n",
        "              print(f\"Both raised errors\")"
      ],
      "metadata": {
        "id": "cOhGQWWnRxlV"
      },
      "execution_count": 55,
      "outputs": []
    },
    {
      "cell_type": "code",
      "source": [
        "x = np.random.rand(2, 3, 4, 5, 6)\n",
        "pattern = \"...->...\"\n",
        "compare(x, pattern)"
      ],
      "metadata": {
        "colab": {
          "base_uri": "https://localhost:8080/"
        },
        "id": "GaOWs2yHVLHK",
        "outputId": "ead49447-3d9a-4913-c6e8-ce73edc70296"
      },
      "execution_count": 56,
      "outputs": [
        {
          "output_type": "stream",
          "name": "stdout",
          "text": [
            "Shapes matches, test succesful!\n"
          ]
        }
      ]
    },
    {
      "cell_type": "code",
      "source": [
        "compare(x, 'a b c d e-> a b c d e')"
      ],
      "metadata": {
        "colab": {
          "base_uri": "https://localhost:8080/"
        },
        "id": "zuw-yujpY9EC",
        "outputId": "bc18a944-3d0c-4653-ddde-964626375fe7"
      },
      "execution_count": 57,
      "outputs": [
        {
          "output_type": "stream",
          "name": "stdout",
          "text": [
            "Shapes matches, test succesful!\n"
          ]
        }
      ]
    },
    {
      "cell_type": "code",
      "source": [
        "compare(np.random.rand(2, 3, 4, 5, 6, 7), 'a b c d e ...-> ... a b c d e')"
      ],
      "metadata": {
        "colab": {
          "base_uri": "https://localhost:8080/"
        },
        "id": "ER1dfTyiZCz9",
        "outputId": "62816485-555c-4cde-a9d0-85056a3c1d38"
      },
      "execution_count": 58,
      "outputs": [
        {
          "output_type": "stream",
          "name": "stdout",
          "text": [
            "Shapes matches, test succesful!\n"
          ]
        }
      ]
    },
    {
      "cell_type": "code",
      "source": [
        "compare(np.random.rand(2, 3, 4, 5, 6, 7), \"a b c d e ...-> ... a b c d e\")"
      ],
      "metadata": {
        "colab": {
          "base_uri": "https://localhost:8080/"
        },
        "id": "FLrmeZytZO7w",
        "outputId": "fa1d2786-e397-474b-8109-b54dcb61eab4"
      },
      "execution_count": 60,
      "outputs": [
        {
          "output_type": "stream",
          "name": "stdout",
          "text": [
            "Shapes matches, test succesful!\n"
          ]
        }
      ]
    },
    {
      "cell_type": "code",
      "source": [
        "compare(np.random.rand(2, 3, 4 ,5, 6, 7), '... a b c d e -> ... a b c d e')"
      ],
      "metadata": {
        "colab": {
          "base_uri": "https://localhost:8080/"
        },
        "id": "KQynD6LcZVmE",
        "outputId": "bbc89d82-bc86-495b-cd2e-f6c91a02e8f2"
      },
      "execution_count": 62,
      "outputs": [
        {
          "output_type": "stream",
          "name": "stdout",
          "text": [
            "Shapes matches, test succesful!\n"
          ]
        }
      ]
    },
    {
      "cell_type": "code",
      "source": [
        "compare(x, \"a ... e-> a ... e\")"
      ],
      "metadata": {
        "colab": {
          "base_uri": "https://localhost:8080/"
        },
        "id": "zkGZQkMaZe9Y",
        "outputId": "c56a5299-5802-4198-d7de-3ffaba609a22"
      },
      "execution_count": 63,
      "outputs": [
        {
          "output_type": "stream",
          "name": "stdout",
          "text": [
            "Shapes matches, test succesful!\n"
          ]
        }
      ]
    },
    {
      "cell_type": "code",
      "source": [
        "compare(x, \"a ... -> a ... \")"
      ],
      "metadata": {
        "colab": {
          "base_uri": "https://localhost:8080/"
        },
        "id": "6cdb9LBSZmGE",
        "outputId": "1b027dfb-1289-4ad0-a38e-6d33463bf14d"
      },
      "execution_count": 64,
      "outputs": [
        {
          "output_type": "stream",
          "name": "stdout",
          "text": [
            "Shapes matches, test succesful!\n"
          ]
        }
      ]
    },
    {
      "cell_type": "code",
      "source": [
        "compare(x, \"a ... c d e -> a (...) c d e\")"
      ],
      "metadata": {
        "colab": {
          "base_uri": "https://localhost:8080/"
        },
        "id": "4GbLCj12Zpa8",
        "outputId": "d4e0b573-597b-4e0c-d951-f5acd1774510"
      },
      "execution_count": 65,
      "outputs": [
        {
          "output_type": "stream",
          "name": "stdout",
          "text": [
            "Shapes matches, test succesful!\n"
          ]
        }
      ]
    },
    {
      "cell_type": "markdown",
      "source": [
        "### pattern-wise comparison"
      ],
      "metadata": {
        "id": "nrMfeC5dZ2wz"
      }
    },
    {
      "cell_type": "code",
      "source": [
        "def case_comp(x, pattern1, pattern2):\n",
        "  y = rearrange(x, pattern1)\n",
        "  y_ = rearrange(x, pattern2)\n",
        "  if y.shape == y_.shape:\n",
        "    print(\"results match!\")\n",
        "  else:\n",
        "    print(\"Test failed... Mismatch in outputs\")"
      ],
      "metadata": {
        "id": "aJXpfQ7xaB0g"
      },
      "execution_count": 68,
      "outputs": []
    },
    {
      "cell_type": "code",
      "source": [
        "p = (\"a b c d e -> (a b) c d e\", \"a b ... -> (a b) ... \")\n",
        "compare(x, p[0])\n",
        "compare(x, p[1])"
      ],
      "metadata": {
        "colab": {
          "base_uri": "https://localhost:8080/"
        },
        "id": "zczpCUdTZsRb",
        "outputId": "e0eb37ec-de32-4c45-a7a4-a7332d8f6844"
      },
      "execution_count": 67,
      "outputs": [
        {
          "output_type": "stream",
          "name": "stdout",
          "text": [
            "Shapes matches, test succesful!\n",
            "Shapes matches, test succesful!\n"
          ]
        }
      ]
    },
    {
      "cell_type": "code",
      "source": [
        "p = (\"a b c d e -> a b (c d) e\", \"... c d e -> ... (c d) e\")\n",
        "case_comp(x, p[0], p[1])"
      ],
      "metadata": {
        "colab": {
          "base_uri": "https://localhost:8080/"
        },
        "id": "DGKNkFOBZ8CH",
        "outputId": "44eb8f91-b2c2-47dd-f3c1-73f774a65e19"
      },
      "execution_count": 69,
      "outputs": [
        {
          "output_type": "stream",
          "name": "stdout",
          "text": [
            "results match!\n"
          ]
        }
      ]
    },
    {
      "cell_type": "code",
      "source": [
        "p = (\"a b c d e -> a b c d e\", \"... -> ... \")\n",
        "case_comp(x, p[0], p[1])"
      ],
      "metadata": {
        "colab": {
          "base_uri": "https://localhost:8080/"
        },
        "id": "rekIdok7abjz",
        "outputId": "0623ecaa-679c-44e1-c752-cf980f736146"
      },
      "execution_count": 70,
      "outputs": [
        {
          "output_type": "stream",
          "name": "stdout",
          "text": [
            "results match!\n"
          ]
        }
      ]
    },
    {
      "cell_type": "code",
      "source": [
        "p = (\"a b c d e -> (a b c d e)\", \"... ->  (...)\")\n",
        "case_comp(x, p[0], p[1])"
      ],
      "metadata": {
        "colab": {
          "base_uri": "https://localhost:8080/"
        },
        "id": "QyjMGxEGaf1J",
        "outputId": "6c242bb6-e119-4184-c076-88f4df62b8bc"
      },
      "execution_count": 71,
      "outputs": [
        {
          "output_type": "stream",
          "name": "stdout",
          "text": [
            "results match!\n"
          ]
        }
      ]
    },
    {
      "cell_type": "code",
      "source": [
        "p = (\"a b c d e -> b (c d e) a\", \"a b ... -> b (...) a\")\n",
        "case_comp(x, p[0], p[1])"
      ],
      "metadata": {
        "colab": {
          "base_uri": "https://localhost:8080/"
        },
        "id": "hoaVj_jhamIb",
        "outputId": "3c7c3905-4322-4075-d9d8-5e714e032488"
      },
      "execution_count": 72,
      "outputs": [
        {
          "output_type": "stream",
          "name": "stdout",
          "text": [
            "results match!\n"
          ]
        }
      ]
    },
    {
      "cell_type": "code",
      "source": [
        "p = (\"a b c d e -> b (a c d) e\", \"a b ... e -> b (a ...) e\")\n",
        "case_comp(x, p[0], p[1])"
      ],
      "metadata": {
        "colab": {
          "base_uri": "https://localhost:8080/"
        },
        "id": "dy1WVqUkarWq",
        "outputId": "64bd8fad-9cae-4ff5-dae8-d2d78fc02906"
      },
      "execution_count": 73,
      "outputs": [
        {
          "output_type": "stream",
          "name": "stdout",
          "text": [
            "results match!\n"
          ]
        }
      ]
    },
    {
      "cell_type": "code",
      "source": [],
      "metadata": {
        "id": "WsGEJevBaw-k"
      },
      "execution_count": null,
      "outputs": []
    }
  ]
}